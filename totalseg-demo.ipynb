{
 "cells": [
  {
   "cell_type": "code",
   "execution_count": 12,
   "metadata": {},
   "outputs": [
    {
     "name": "stdout",
     "output_type": "stream",
     "text": [
      "Running on local URL:  http://127.0.0.1:7868\n",
      "\n",
      "Thanks for being a Gradio user! If you have questions or feedback, please join our Discord server and chat with us: https://discord.gg/feTf9x3ZSB\n",
      "\n",
      "To create a public link, set `share=True` in `launch()`.\n"
     ]
    },
    {
     "data": {
      "text/html": [
       "<div><iframe src=\"http://127.0.0.1:7868/\" width=\"100%\" height=\"500\" allow=\"autoplay; camera; microphone; clipboard-read; clipboard-write;\" frameborder=\"0\" allowfullscreen></iframe></div>"
      ],
      "text/plain": [
       "<IPython.core.display.HTML object>"
      ]
     },
     "metadata": {},
     "output_type": "display_data"
    },
    {
     "data": {
      "text/plain": []
     },
     "execution_count": 12,
     "metadata": {},
     "output_type": "execute_result"
    },
    {
     "name": "stdout",
     "output_type": "stream",
     "text": [
      "No GPU detected. Running on CPU. This can be very slow. The '--fast' or the `--roi_subset` option can help to reduce runtime.\n"
     ]
    },
    {
     "name": "stderr",
     "output_type": "stream",
     "text": [
      "Python(79609) MallocStackLogging: can't turn off malloc stack logging because it was not enabled.\n",
      "Python(79610) MallocStackLogging: can't turn off malloc stack logging because it was not enabled.\n",
      "Python(79611) MallocStackLogging: can't turn off malloc stack logging because it was not enabled.\n",
      "Python(79612) MallocStackLogging: can't turn off malloc stack logging because it was not enabled.\n",
      "Python(79613) MallocStackLogging: can't turn off malloc stack logging because it was not enabled.\n",
      "Python(79614) MallocStackLogging: can't turn off malloc stack logging because it was not enabled.\n",
      "Python(79615) MallocStackLogging: can't turn off malloc stack logging because it was not enabled.\n",
      "Python(79616) MallocStackLogging: can't turn off malloc stack logging because it was not enabled.\n",
      "Python(79617) MallocStackLogging: can't turn off malloc stack logging because it was not enabled.\n",
      "Python(79618) MallocStackLogging: can't turn off malloc stack logging because it was not enabled.\n",
      "Python(79619) MallocStackLogging: can't turn off malloc stack logging because it was not enabled.\n",
      "Python(79620) MallocStackLogging: can't turn off malloc stack logging because it was not enabled.\n",
      "Python(79621) MallocStackLogging: can't turn off malloc stack logging because it was not enabled.\n",
      "Python(79622) MallocStackLogging: can't turn off malloc stack logging because it was not enabled.\n",
      "Python(79623) MallocStackLogging: can't turn off malloc stack logging because it was not enabled.\n",
      "Python(79624) MallocStackLogging: can't turn off malloc stack logging because it was not enabled.\n",
      "Python(79625) MallocStackLogging: can't turn off malloc stack logging because it was not enabled.\n",
      "Python(79626) MallocStackLogging: can't turn off malloc stack logging because it was not enabled.\n",
      "Python(79627) MallocStackLogging: can't turn off malloc stack logging because it was not enabled.\n",
      "Python(79628) MallocStackLogging: can't turn off malloc stack logging because it was not enabled.\n",
      "Python(79629) MallocStackLogging: can't turn off malloc stack logging because it was not enabled.\n",
      "Python(79639) MallocStackLogging: can't turn off malloc stack logging because it was not enabled.\n",
      "Python(79640) MallocStackLogging: can't turn off malloc stack logging because it was not enabled.\n",
      "Python(79641) MallocStackLogging: can't turn off malloc stack logging because it was not enabled.\n",
      "Python(79642) MallocStackLogging: can't turn off malloc stack logging because it was not enabled.\n",
      "Python(79643) MallocStackLogging: can't turn off malloc stack logging because it was not enabled.\n",
      "Python(79644) MallocStackLogging: can't turn off malloc stack logging because it was not enabled.\n"
     ]
    }
   ],
   "source": [
    "import gradio as gr\n",
    "import numpy as np\n",
    "import nibabel as nib\n",
    "from totalsegmentator.python_api import totalsegmentator\n",
    "import tempfile\n",
    "\n",
    "volume_cache = {}\n",
    "\n",
    "def normalize_to_uint8(arr: np.ndarray) -> np.ndarray:\n",
    "    arr = np.nan_to_num(arr)\n",
    "    arr_min = arr.min()\n",
    "    arr_max = arr.max()\n",
    "    if arr_max - arr_min == 0:\n",
    "        return np.zeros_like(arr, dtype=np.uint8)\n",
    "    norm = (arr - arr_min) / (arr_max - arr_min)\n",
    "    return (norm * 255).astype(np.uint8)\n",
    "\n",
    "def create_dummy_mask(height, width):\n",
    "    mask = np.zeros((height, width), dtype=np.float32)\n",
    "    cx, cy = width // 2, height // 2\n",
    "    r = min(height, width) // 4\n",
    "    Y, X = np.ogrid[:height, :width]\n",
    "    dist_sq = (X - cx)**2 + (Y - cy)**2\n",
    "    mask[dist_sq <= r**2] = 1.0\n",
    "    return mask\n",
    "\n",
    "def rotate_90_cc(arr: np.ndarray) -> np.ndarray:\n",
    "    h, w = arr.shape\n",
    "    new_arr = np.zeros((w, h), dtype=arr.dtype)\n",
    "    for i in range(h):\n",
    "        for j in range(w):\n",
    "            new_arr[w - 1 - j, i] = arr[i, j]\n",
    "    return new_arr\n",
    "\n",
    "\n",
    "def segment(file):\n",
    "    input_path = file.name\n",
    "    output_dir = tempfile.mkdtemp()\n",
    "    seg_img = totalsegmentator(\n",
    "        input=input_path,\n",
    "        output=output_dir,\n",
    "        task=\"total_mr\",   # adjust in future\n",
    "        quiet=True,\n",
    "        fast=True,\n",
    "        ml=False,\n",
    "        skip_saving=False,\n",
    "        output_type=\"nifti\"\n",
    "    )\n",
    "\n",
    "    seg_data = np.nan_to_num(seg_img.get_fdata().astype(np.uint8))\n",
    "    labels_data = np.nan_to_num(nib.load(input_path).get_fdata())\n",
    "\n",
    "    volume_cache[\"volume\"] = np.squeeze(labels_data)\n",
    "    volume_cache[\"mask\"] = np.squeeze(seg_data)\n",
    "\n",
    "    mid = volume_cache[\"volume\"].shape[2] // 2\n",
    "    slice_2d = normalize_to_uint8(volume_cache[\"volume\"][:, :, mid])\n",
    "    mask_2d = (volume_cache[\"mask\"][:, :, mid] == 109).astype(np.float32)  # liver = 109\n",
    "\n",
    "    return (slice_2d, [(mask_2d, \"liver\")]), gr.update(visible=True, maximum=volume_cache[\"volume\"].shape[2] - 1, value=mid)\n",
    "\n",
    "\n",
    "def update_slice(index):\n",
    "    vol = volume_cache.get(\"volume\")\n",
    "    mask_vol = volume_cache.get(\"mask\")\n",
    "\n",
    "    if vol is None:\n",
    "        raise gr.Error(\"No volume loaded.\")\n",
    "    \n",
    "    slice_2d = normalize_to_uint8(vol[:, :, index])\n",
    "    mask_2d = (mask_vol[:, :, index] == 5).astype(np.float32)\n",
    "\n",
    "    rotated_slice_2d = rotate_90_cc(slice_2d)\n",
    "    rotated_mask_2d = rotate_90_cc(mask_2d)\n",
    "\n",
    "    return (rotated_slice_2d, [(rotated_mask_2d, \"liver\")])\n",
    "\n",
    "\n",
    "with gr.Blocks() as demo:\n",
    "    file_input = gr.File(label=\"Upload NIfTI file\")\n",
    "    slice_viewer = gr.AnnotatedImage(label=\"MRI Slice + Mask\", color_map={\"liver\": \"#bb3f3f\"})\n",
    "    slice_slider = gr.Slider(minimum=0, maximum=1, step=1, label=\"Slice Index\", visible=False)\n",
    "\n",
    "    file_input.change(fn=segment, inputs=file_input, outputs=[slice_viewer, slice_slider])\n",
    "    slice_slider.change(fn=update_slice, inputs=slice_slider, outputs=slice_viewer)\n",
    "\n",
    "demo.launch(show_error=True)\n"
   ]
  },
  {
   "cell_type": "code",
   "execution_count": null,
   "metadata": {},
   "outputs": [],
   "source": []
  }
 ],
 "metadata": {
  "kernelspec": {
   "display_name": "venv",
   "language": "python",
   "name": "python3"
  },
  "language_info": {
   "codemirror_mode": {
    "name": "ipython",
    "version": 3
   },
   "file_extension": ".py",
   "mimetype": "text/x-python",
   "name": "python",
   "nbconvert_exporter": "python",
   "pygments_lexer": "ipython3",
   "version": "3.11.11"
  }
 },
 "nbformat": 4,
 "nbformat_minor": 2
}
